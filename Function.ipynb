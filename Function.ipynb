{
 "cells": [
  {
   "cell_type": "code",
   "execution_count": 1,
   "id": "4e09c529-7a4e-404d-ae25-ec42c6822564",
   "metadata": {},
   "outputs": [
    {
     "name": "stdout",
     "output_type": "stream",
     "text": [
      "20\n"
     ]
    }
   ],
   "source": [
    "def addvalue (x,y):\n",
    "    result = x + y\n",
    "    return result\n",
    "\n",
    "addresult = addvalue(15,5)\n",
    "\n",
    "print(addresult)"
   ]
  },
  {
   "cell_type": "code",
   "execution_count": 3,
   "id": "a12aa121-b8ce-4de9-aaf2-20504f48619b",
   "metadata": {},
   "outputs": [
    {
     "name": "stdout",
     "output_type": "stream",
     "text": [
      "10\n"
     ]
    }
   ],
   "source": [
    "def subvalue (x,y):\n",
    "    result = x - y\n",
    "    return result\n",
    "\n",
    "subresult = subvalue(25,15)\n",
    "\n",
    "print(subresult)"
   ]
  },
  {
   "cell_type": "code",
   "execution_count": 6,
   "id": "4a6c41d5-6237-4080-8df0-449e21350947",
   "metadata": {},
   "outputs": [
    {
     "name": "stdout",
     "output_type": "stream",
     "text": [
      "300\n"
     ]
    }
   ],
   "source": [
    "def mulvalue (x,y):\n",
    "    result = x * y\n",
    "    return result\n",
    "\n",
    "mulresult = mulvalue(25,12)\n",
    "\n",
    "print(mulresult)"
   ]
  },
  {
   "cell_type": "code",
   "execution_count": 10,
   "id": "c66e4b20-39d2-48ce-8779-0e6aceffe205",
   "metadata": {},
   "outputs": [
    {
     "name": "stdout",
     "output_type": "stream",
     "text": [
      "5.0\n"
     ]
    }
   ],
   "source": [
    "def divvalue (x,y):\n",
    "    result = x/y\n",
    "    return result\n",
    "\n",
    "divresult = divvalue(25,5)\n",
    "\n",
    "print(divresult)"
   ]
  },
  {
   "cell_type": "code",
   "execution_count": 11,
   "id": "f90a1317-23c9-4550-88e4-5bc98d1b21a4",
   "metadata": {},
   "outputs": [
    {
     "name": "stdout",
     "output_type": "stream",
     "text": [
      "[14, 12]\n"
     ]
    }
   ],
   "source": [
    "def modvalue (x,y):\n",
    "    result = [x,y]\n",
    "    return result\n",
    "\n",
    "modresult = modvalue(14,12)\n",
    "\n",
    "print(modresult)"
   ]
  },
  {
   "cell_type": "code",
   "execution_count": 25,
   "id": "d2f57ca4-0d7e-4c0c-ad06-8d08f5582442",
   "metadata": {},
   "outputs": [
    {
     "name": "stdout",
     "output_type": "stream",
     "text": [
      "({'name': 'mango', 'price': 82, 'place': 'D-mart'},)\n"
     ]
    }
   ],
   "source": [
    "def fruit(name1,price1,place1):\n",
    "    reslut ={\"name\":name1,\n",
    "             \"price\":price1,\n",
    "             \"place\":place1},\n",
    "    return  reslut\n",
    "\n",
    "output = fruit(\"mango\",82,\"D-mart\")\n",
    "\n",
    "print(output)"
   ]
  },
  {
   "cell_type": "code",
   "execution_count": null,
   "id": "fdd8acc0-1c3a-46f1-9647-5222e0990c4a",
   "metadata": {},
   "outputs": [],
   "source": []
  },
  {
   "cell_type": "code",
   "execution_count": null,
   "id": "5fcaf7f8-41d1-450b-8b9c-427efad07797",
   "metadata": {},
   "outputs": [],
   "source": []
  }
 ],
 "metadata": {
  "kernelspec": {
   "display_name": "Python 3 (ipykernel)",
   "language": "python",
   "name": "python3"
  },
  "language_info": {
   "codemirror_mode": {
    "name": "ipython",
    "version": 3
   },
   "file_extension": ".py",
   "mimetype": "text/x-python",
   "name": "python",
   "nbconvert_exporter": "python",
   "pygments_lexer": "ipython3",
   "version": "3.11.7"
  }
 },
 "nbformat": 4,
 "nbformat_minor": 5
}
