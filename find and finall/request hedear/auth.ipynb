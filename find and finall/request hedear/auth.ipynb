{
 "cells": [
  {
   "cell_type": "code",
   "execution_count": 1,
   "metadata": {},
   "outputs": [],
   "source": [
    "import requests as rq"
   ]
  },
  {
   "cell_type": "code",
   "execution_count": 2,
   "metadata": {},
   "outputs": [],
   "source": [
    "url = \"https://api.openaq.org/v2/cities?country=In\""
   ]
  },
  {
   "cell_type": "code",
   "execution_count": 3,
   "metadata": {},
   "outputs": [
    {
     "data": {
      "text/plain": [
       "tuple"
      ]
     },
     "execution_count": 3,
     "metadata": {},
     "output_type": "execute_result"
    }
   ],
   "source": [
    "auth =('country','in')\n",
    "type(auth)"
   ]
  },
  {
   "cell_type": "code",
   "execution_count": 4,
   "metadata": {},
   "outputs": [],
   "source": [
    "rResp = rq.get(url, auth = auth)\n"
   ]
  },
  {
   "cell_type": "code",
   "execution_count": 5,
   "metadata": {},
   "outputs": [
    {
     "name": "stdout",
     "output_type": "stream",
     "text": [
      "<Response [200]>\n",
      "{'meta': {'name': 'openaq-api', 'license': '', 'website': '/', 'page': 1, 'limit': 100, 'found': 3}, 'results': [{'country': 'IN', 'city': 'Chennai', 'count': 9513, 'locations': 1, 'firstUpdated': '2022-10-03 19:30:00+00', 'lastUpdated': '2024-06-06 16:30:00+00', 'parameters': ['pm25']}, {'country': 'IN', 'city': 'India', 'count': 187842, 'locations': 4, 'firstUpdated': '2016-11-09 17:30:00+00', 'lastUpdated': '2024-06-06 16:30:00+00', 'parameters': ['pm25']}, {'country': 'IN', 'city': 'Kanpur', 'count': 546, 'locations': 1, 'firstUpdated': '2019-10-21 13:00:00+00', 'lastUpdated': '2019-11-25 13:00:00+00', 'parameters': ['pm25']}]}\n"
     ]
    }
   ],
   "source": [
    "\n",
    "print(rResp)\n",
    "\n",
    "print(rResp.json())"
   ]
  },
  {
   "cell_type": "code",
   "execution_count": 6,
   "metadata": {},
   "outputs": [
    {
     "data": {
      "text/plain": [
       "{'meta': {'name': 'openaq-api',\n",
       "  'license': '',\n",
       "  'website': '/',\n",
       "  'page': 1,\n",
       "  'limit': 100,\n",
       "  'found': 3},\n",
       " 'results': [{'country': 'IN',\n",
       "   'city': 'Chennai',\n",
       "   'count': 9513,\n",
       "   'locations': 1,\n",
       "   'firstUpdated': '2022-10-03 19:30:00+00',\n",
       "   'lastUpdated': '2024-06-06 16:30:00+00',\n",
       "   'parameters': ['pm25']},\n",
       "  {'country': 'IN',\n",
       "   'city': 'India',\n",
       "   'count': 187842,\n",
       "   'locations': 4,\n",
       "   'firstUpdated': '2016-11-09 17:30:00+00',\n",
       "   'lastUpdated': '2024-06-06 16:30:00+00',\n",
       "   'parameters': ['pm25']},\n",
       "  {'country': 'IN',\n",
       "   'city': 'Kanpur',\n",
       "   'count': 546,\n",
       "   'locations': 1,\n",
       "   'firstUpdated': '2019-10-21 13:00:00+00',\n",
       "   'lastUpdated': '2019-11-25 13:00:00+00',\n",
       "   'parameters': ['pm25']}]}"
      ]
     },
     "execution_count": 6,
     "metadata": {},
     "output_type": "execute_result"
    }
   ],
   "source": [
    "rResp.json()"
   ]
  },
  {
   "cell_type": "code",
   "execution_count": 7,
   "metadata": {},
   "outputs": [],
   "source": [
    "furl = 'https://httpbin.dev/basic-auth/user/passwd'"
   ]
  },
  {
   "cell_type": "code",
   "execution_count": 8,
   "metadata": {},
   "outputs": [
    {
     "data": {
      "text/plain": [
       "('user', 'passwd')"
      ]
     },
     "execution_count": 8,
     "metadata": {},
     "output_type": "execute_result"
    }
   ],
   "source": [
    "fAuth = ('user' , 'passwd')\n",
    "\n",
    "fAuth\n"
   ]
  },
  {
   "cell_type": "code",
   "execution_count": 9,
   "metadata": {},
   "outputs": [],
   "source": [
    "fresp = rq.get(furl, auth=fAuth)"
   ]
  },
  {
   "cell_type": "code",
   "execution_count": 10,
   "metadata": {},
   "outputs": [
    {
     "name": "stdout",
     "output_type": "stream",
     "text": [
      "{'authorized': True, 'user': 'user'}\n"
     ]
    }
   ],
   "source": [
    "print(fresp.json())"
   ]
  }
 ],
 "metadata": {
  "kernelspec": {
   "display_name": "Python 3",
   "language": "python",
   "name": "python3"
  },
  "language_info": {
   "codemirror_mode": {
    "name": "ipython",
    "version": 3
   },
   "file_extension": ".py",
   "mimetype": "text/x-python",
   "name": "python",
   "nbconvert_exporter": "python",
   "pygments_lexer": "ipython3",
   "version": "3.12.2"
  }
 },
 "nbformat": 4,
 "nbformat_minor": 2
}
