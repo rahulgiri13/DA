{
 "cells": [
  {
   "cell_type": "markdown",
   "id": "689a8745-5112-4222-b51e-25da4288977f",
   "metadata": {},
   "source": [
    "# dictionry"
   ]
  },
  {
   "cell_type": "markdown",
   "id": "3d16649b-c1ec-4a2a-97f4-19f871c4d97c",
   "metadata": {},
   "source": [
    "## Curly Braces"
   ]
  },
  {
   "cell_type": "code",
   "execution_count": 15,
   "id": "1dd396e6-b58c-450d-ac49-389952c3082e",
   "metadata": {},
   "outputs": [],
   "source": [
    "my_dict = {\"name\": \"Alice\", \"age\": 30, \"city\": \"New York\"}\n"
   ]
  },
  {
   "cell_type": "markdown",
   "id": "34224c05-e4c9-46a5-858e-1f5f8c2e8ed2",
   "metadata": {},
   "source": [
    "# dict () function"
   ]
  },
  {
   "cell_type": "code",
   "execution_count": 7,
   "id": "a287cc1a-adc6-4090-9d68-c2d17882a185",
   "metadata": {},
   "outputs": [],
   "source": [
    "empty_dict = dict()  # Creates an empty dictionary\n"
   ]
  },
  {
   "cell_type": "code",
   "execution_count": 9,
   "id": "4a6374a5-fdeb-481c-b374-0a8fd8654162",
   "metadata": {},
   "outputs": [],
   "source": [
    "name = my_dict[\"name\"]  \n"
   ]
  },
  {
   "cell_type": "code",
   "execution_count": 14,
   "id": "ae879a39-df1e-439f-ab45-d3d2341c29b3",
   "metadata": {},
   "outputs": [
    {
     "data": {
      "text/plain": [
       "'Alice'"
      ]
     },
     "execution_count": 14,
     "metadata": {},
     "output_type": "execute_result"
    }
   ],
   "source": [
    "name"
   ]
  },
  {
   "cell_type": "markdown",
   "id": "41deb510-f615-4378-9cbe-7b12f3d9969c",
   "metadata": {},
   "source": [
    "## add value"
   ]
  },
  {
   "cell_type": "code",
   "execution_count": 17,
   "id": "3b3a6bef-35b4-4443-bfc2-80300980b26d",
   "metadata": {},
   "outputs": [
    {
     "data": {
      "text/plain": [
       "{'name': 'Alice', 'age': 30, 'city': 'New York'}"
      ]
     },
     "execution_count": 17,
     "metadata": {},
     "output_type": "execute_result"
    }
   ],
   "source": [
    "my_dict"
   ]
  },
  {
   "cell_type": "code",
   "execution_count": 18,
   "id": "d8fcab54-bb1b-4bd9-be1b-a160b5217abd",
   "metadata": {},
   "outputs": [],
   "source": [
    "my_dict[\"occupation\"] = \"Software Engineer\""
   ]
  },
  {
   "cell_type": "code",
   "execution_count": 19,
   "id": "b6cc4ddc-9a50-4a3a-905a-18b4f68e4df6",
   "metadata": {},
   "outputs": [
    {
     "data": {
      "text/plain": [
       "{'name': 'Alice',\n",
       " 'age': 30,\n",
       " 'city': 'New York',\n",
       " 'occupation': 'Software Engineer'}"
      ]
     },
     "execution_count": 19,
     "metadata": {},
     "output_type": "execute_result"
    }
   ],
   "source": [
    "my_dict"
   ]
  },
  {
   "cell_type": "markdown",
   "id": "c370919e-0eaa-4471-a062-200fbe53aee3",
   "metadata": {},
   "source": [
    "## updating "
   ]
  },
  {
   "cell_type": "code",
   "execution_count": 20,
   "id": "6ee04d86-6744-4b1c-acfd-b96525df1768",
   "metadata": {},
   "outputs": [
    {
     "data": {
      "text/plain": [
       "{'name': 'Alice',\n",
       " 'age': 30,\n",
       " 'city': 'New York',\n",
       " 'occupation': 'Software Engineer'}"
      ]
     },
     "execution_count": 20,
     "metadata": {},
     "output_type": "execute_result"
    }
   ],
   "source": [
    "my_dict"
   ]
  },
  {
   "cell_type": "code",
   "execution_count": 21,
   "id": "d96310e2-c94c-4662-9b73-379855d16b90",
   "metadata": {},
   "outputs": [],
   "source": [
    "my_dict[\"age\"] = 31"
   ]
  },
  {
   "cell_type": "code",
   "execution_count": 22,
   "id": "f8278b6b-857d-445f-8e43-6f031a313f7b",
   "metadata": {},
   "outputs": [
    {
     "data": {
      "text/plain": [
       "{'name': 'Alice',\n",
       " 'age': 31,\n",
       " 'city': 'New York',\n",
       " 'occupation': 'Software Engineer'}"
      ]
     },
     "execution_count": 22,
     "metadata": {},
     "output_type": "execute_result"
    }
   ],
   "source": [
    "my_dict \n"
   ]
  },
  {
   "cell_type": "markdown",
   "id": "1a100473-09e3-423f-ae77-49cba8823ff8",
   "metadata": {},
   "source": [
    "# del function"
   ]
  },
  {
   "cell_type": "code",
   "execution_count": 23,
   "id": "ff0aad6e-406e-434f-9f2b-0c787eb105db",
   "metadata": {},
   "outputs": [
    {
     "data": {
      "text/plain": [
       "{'name': 'Alice',\n",
       " 'age': 31,\n",
       " 'city': 'New York',\n",
       " 'occupation': 'Software Engineer'}"
      ]
     },
     "execution_count": 23,
     "metadata": {},
     "output_type": "execute_result"
    }
   ],
   "source": [
    "my_dict"
   ]
  },
  {
   "cell_type": "code",
   "execution_count": 24,
   "id": "686ca544-3924-4292-91c8-e97990043afa",
   "metadata": {},
   "outputs": [],
   "source": [
    "del my_dict[\"city\"]"
   ]
  },
  {
   "cell_type": "code",
   "execution_count": 25,
   "id": "e3fba910-3157-4e8c-92e6-04d63d7822c9",
   "metadata": {},
   "outputs": [
    {
     "data": {
      "text/plain": [
       "{'name': 'Alice', 'age': 31, 'occupation': 'Software Engineer'}"
      ]
     },
     "execution_count": 25,
     "metadata": {},
     "output_type": "execute_result"
    }
   ],
   "source": [
    "my_dict"
   ]
  },
  {
   "cell_type": "markdown",
   "id": "3e332d8c-26c3-4d96-a985-60862f24e305",
   "metadata": {},
   "source": [
    "# pop"
   ]
  },
  {
   "cell_type": "code",
   "execution_count": 26,
   "id": "dc06da00-7639-43b0-8243-bcefd4f90e59",
   "metadata": {},
   "outputs": [
    {
     "data": {
      "text/plain": [
       "{'name': 'Alice', 'age': 31, 'occupation': 'Software Engineer'}"
      ]
     },
     "execution_count": 26,
     "metadata": {},
     "output_type": "execute_result"
    }
   ],
   "source": [
    "my_dict"
   ]
  },
  {
   "cell_type": "code",
   "execution_count": 33,
   "id": "5e17fa0e-cb7f-4f2c-8c4b-51b8976e81c6",
   "metadata": {},
   "outputs": [],
   "source": [
    " value = my_dict.pop(\"age\", \"Unknown\") "
   ]
  },
  {
   "cell_type": "code",
   "execution_count": 31,
   "id": "e7c92f39-982b-4a8b-bae4-678a8b3cef07",
   "metadata": {},
   "outputs": [
    {
     "data": {
      "text/plain": [
       "31"
      ]
     },
     "execution_count": 31,
     "metadata": {},
     "output_type": "execute_result"
    }
   ],
   "source": [
    "value"
   ]
  },
  {
   "cell_type": "code",
   "execution_count": null,
   "id": "f5a5e57f-a330-4b3f-9dea-04776dadc8c8",
   "metadata": {},
   "outputs": [],
   "source": []
  }
 ],
 "metadata": {
  "kernelspec": {
   "display_name": "Python 3 (ipykernel)",
   "language": "python",
   "name": "python3"
  },
  "language_info": {
   "codemirror_mode": {
    "name": "ipython",
    "version": 3
   },
   "file_extension": ".py",
   "mimetype": "text/x-python",
   "name": "python",
   "nbconvert_exporter": "python",
   "pygments_lexer": "ipython3",
   "version": "3.11.7"
  }
 },
 "nbformat": 4,
 "nbformat_minor": 5
}
