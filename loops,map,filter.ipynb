{
 "cells": [
  {
   "cell_type": "code",
   "execution_count": 1,
   "metadata": {},
   "outputs": [
    {
     "name": "stdout",
     "output_type": "stream",
     "text": [
      "['vivo', 'oppo', 'poco', 'micromax', 'sumsung', 'oneplus', 'iphone', 'realme', 'redmi', 'nokia']\n",
      "vivo\n",
      "oppo\n",
      "poco\n",
      "micromax\n",
      "sumsung\n",
      "oneplus\n",
      "iphone\n",
      "realme\n",
      "redmi\n",
      "nokia\n"
     ]
    }
   ],
   "source": [
    "mobile = ['vivo','oppo','poco','micromax','sumsung',\n",
    "          'oneplus','iphone','realme','redmi','nokia']\n",
    "print(mobile)\n",
    "for x in mobile:\n",
    "    print(x)\n",
    "    \n"
   ]
  },
  {
   "cell_type": "code",
   "execution_count": 5,
   "metadata": {},
   "outputs": [
    {
     "name": "stdout",
     "output_type": "stream",
     "text": [
      "vivo\n",
      "oppo\n",
      "poco\n",
      "micromax\n",
      "oneplus\n",
      "iphone\n",
      "realme\n",
      "redmi\n",
      "nokia\n"
     ]
    }
   ],
   "source": [
    "nobile = [\"vivo\", \"oppo\", \"sumsung\"]\n",
    "for x in mobile:\n",
    "  if x == \"sumsung\":\n",
    "    continue\n",
    "  print(x)"
   ]
  },
  {
   "cell_type": "code",
   "execution_count": 6,
   "metadata": {},
   "outputs": [
    {
     "name": "stdout",
     "output_type": "stream",
     "text": [
      "1\n",
      "3\n",
      "5\n",
      "7\n",
      "9\n",
      "11\n",
      "13\n"
     ]
    }
   ],
   "source": [
    "for R in range(1,15,2):\n",
    "  print(R)"
   ]
  },
  {
   "cell_type": "code",
   "execution_count": 8,
   "metadata": {},
   "outputs": [
    {
     "name": "stdout",
     "output_type": "stream",
     "text": [
      "petrol pulsar\n",
      "petrol ola\n",
      "electric pulsar\n",
      "electric ola\n"
     ]
    }
   ],
   "source": [
    "adj = [\"petrol\", \"electric\"]\n",
    "bike = [\"pulsar\", \"ola\"]\n",
    "for x in adj:\n",
    "  for y in bike:\n",
    "    print(x, y)"
   ]
  },
  {
   "cell_type": "code",
   "execution_count": 12,
   "metadata": {},
   "outputs": [
    {
     "name": "stdout",
     "output_type": "stream",
     "text": [
      "1\n",
      "2\n",
      "3\n",
      "4\n",
      "5\n",
      "6\n",
      "7\n",
      "8\n",
      "9\n"
     ]
    }
   ],
   "source": [
    "v = 1\n",
    "while v < 10:\n",
    "  print(v)\n",
    "  v += 1"
   ]
  },
  {
   "cell_type": "code",
   "execution_count": 15,
   "metadata": {},
   "outputs": [
    {
     "name": "stdout",
     "output_type": "stream",
     "text": [
      "[{'name': 'passion', 'milege': 65, 'company': 'hero'}, {'name': 'pulsar', 'milege': 45, 'company': 'bajaj'}, {'name': 'appache', 'milege': 50, 'company': 'TVS'}, {'name': 'R15', 'milege': 40, 'company': 'yamaha'}]\n"
     ]
    }
   ],
   "source": [
    "bike = [\n",
    "    {\"name\": \"passion\", \"milege\": 65, \"company\": \"hero\"},\n",
    "    {\"name\": \"pulsar\", \"milege\": 45, \"company\": \"bajaj\"},\n",
    "    {\"name\": \"appache\", \"milege\": 50, \"company\": \"TVS\"},\n",
    "    {\"name\": \"R15\", \"milege\": 40, \"company\": \"yamaha\"}\n",
    "]\n",
    "print(bike)"
   ]
  },
  {
   "cell_type": "code",
   "execution_count": 16,
   "metadata": {},
   "outputs": [
    {
     "name": "stdout",
     "output_type": "stream",
     "text": [
      "passion\n",
      "pulsar\n",
      "appache\n",
      "R15\n"
     ]
    }
   ],
   "source": [
    "index = 0\n",
    "while index < len(bike):\n",
    "    print(bike[index]['name'])\n",
    "    index += 1"
   ]
  },
  {
   "cell_type": "code",
   "execution_count": 18,
   "metadata": {},
   "outputs": [
    {
     "name": "stdout",
     "output_type": "stream",
     "text": [
      "65\n",
      "45\n",
      "50\n",
      "40\n"
     ]
    }
   ],
   "source": [
    "index = 0\n",
    "while index <len(bike):\n",
    "    print(bike[index]['milege'])\n",
    "    index += 1"
   ]
  },
  {
   "cell_type": "code",
   "execution_count": 21,
   "metadata": {},
   "outputs": [
    {
     "name": "stdout",
     "output_type": "stream",
     "text": [
      "['PASSION', 'PULSAR', 'APPACHE', 'R15']\n",
      "['hero', 'bajaj', 'tvs', 'yamaha']\n"
     ]
    }
   ],
   "source": [
    "up = list(map(lambda bike: bike['name'].upper(), bike))\n",
    "print(up)\n",
    "lp = list(map(lambda bike: bike['company'].lower(), bike))\n",
    "print(lp)"
   ]
  },
  {
   "cell_type": "code",
   "execution_count": 22,
   "metadata": {},
   "outputs": [
    {
     "name": "stdout",
     "output_type": "stream",
     "text": [
      "[{'name': 'passion', 'milege': 65, 'company': 'hero'}, {'name': 'pulsar', 'milege': 45, 'company': 'bajaj'}, {'name': 'appache', 'milege': 50, 'company': 'TVS'}, {'name': 'R15', 'milege': 40, 'company': 'yamaha'}]\n"
     ]
    }
   ],
   "source": [
    "op = list(filter(lambda bike: bike['milege'] >= 30, bike))\n",
    "print(op)"
   ]
  }
 ],
 "metadata": {
  "kernelspec": {
   "display_name": "Python 3",
   "language": "python",
   "name": "python3"
  },
  "language_info": {
   "codemirror_mode": {
    "name": "ipython",
    "version": 3
   },
   "file_extension": ".py",
   "mimetype": "text/x-python",
   "name": "python",
   "nbconvert_exporter": "python",
   "pygments_lexer": "ipython3",
   "version": "3.12.3"
  }
 },
 "nbformat": 4,
 "nbformat_minor": 2
}
