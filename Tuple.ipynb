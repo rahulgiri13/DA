{
 "cells": [
  {
   "cell_type": "markdown",
   "id": "6e625e52-ed30-48b7-97a2-6b6fca1c7c50",
   "metadata": {},
   "source": [
    "# tuple"
   ]
  },
  {
   "cell_type": "code",
   "execution_count": 1,
   "id": "3a70676b-d2c4-4554-b626-b7d913417f91",
   "metadata": {},
   "outputs": [],
   "source": [
    "T1 =(1,2,3,4,5)"
   ]
  },
  {
   "cell_type": "code",
   "execution_count": 4,
   "id": "faa32a04-6b91-446e-98c6-64641b98fd5d",
   "metadata": {},
   "outputs": [
    {
     "name": "stdout",
     "output_type": "stream",
     "text": [
      "(1, 2, 3, 4, 5)\n"
     ]
    },
    {
     "data": {
      "text/plain": [
       "tuple"
      ]
     },
     "execution_count": 4,
     "metadata": {},
     "output_type": "execute_result"
    }
   ],
   "source": [
    "print(T1)\n",
    "type(T1)"
   ]
  },
  {
   "cell_type": "code",
   "execution_count": 5,
   "id": "c621e4df-60ba-47c8-92c2-36b6fc44cab8",
   "metadata": {},
   "outputs": [
    {
     "data": {
      "text/plain": [
       "2"
      ]
     },
     "execution_count": 5,
     "metadata": {},
     "output_type": "execute_result"
    }
   ],
   "source": [
    "T1[1]"
   ]
  },
  {
   "cell_type": "code",
   "execution_count": 7,
   "id": "12526484-8418-4c9a-90de-a65bc2a47cfa",
   "metadata": {},
   "outputs": [
    {
     "name": "stdout",
     "output_type": "stream",
     "text": [
      "(1, 3, 4, 5)\n"
     ]
    }
   ],
   "source": [
    "new_num = T1[:1]+ T1[2:]\n",
    "print(new_num)"
   ]
  },
  {
   "cell_type": "code",
   "execution_count": 8,
   "id": "1f9bd77a-ef7f-4e9b-9524-c7421f53f970",
   "metadata": {},
   "outputs": [
    {
     "data": {
      "text/plain": [
       "(1, 3, 4, 5)"
      ]
     },
     "execution_count": 8,
     "metadata": {},
     "output_type": "execute_result"
    }
   ],
   "source": [
    "new_num"
   ]
  },
  {
   "cell_type": "code",
   "execution_count": null,
   "id": "362c4c81-30bf-4a34-b911-ee609219e5e7",
   "metadata": {},
   "outputs": [],
   "source": [
    "# converting"
   ]
  },
  {
   "cell_type": "code",
   "execution_count": 14,
   "id": "2d7fe92a-b3c1-4f0c-9b2d-047e28f2a001",
   "metadata": {},
   "outputs": [
    {
     "name": "stdout",
     "output_type": "stream",
     "text": [
      "(1, 3)\n"
     ]
    }
   ],
   "source": [
    "val_num = (1, 2, 3)\n",
    "my_list = list(val_num)\n",
    "del my_list[1]\n",
    "same_val = tuple(my_list)\n",
    "print(same_val)  \n"
   ]
  },
  {
   "cell_type": "code",
   "execution_count": null,
   "id": "d6206370-814f-41cb-bd02-2170242926a1",
   "metadata": {},
   "outputs": [],
   "source": [
    "# range\n"
   ]
  },
  {
   "cell_type": "code",
   "execution_count": 16,
   "id": "e3f33f33-489b-4e46-8ddd-fcd12eec0324",
   "metadata": {},
   "outputs": [],
   "source": [
    "r2 = (range(1,2,3))"
   ]
  },
  {
   "cell_type": "code",
   "execution_count": 17,
   "id": "9443343e-b22c-4d31-926b-75c2f6f03bd6",
   "metadata": {},
   "outputs": [
    {
     "data": {
      "text/plain": [
       "range(1, 2, 3)"
      ]
     },
     "execution_count": 17,
     "metadata": {},
     "output_type": "execute_result"
    }
   ],
   "source": [
    "r2"
   ]
  },
  {
   "cell_type": "code",
   "execution_count": 19,
   "id": "16747ea5-65be-48a1-a46f-8bcd166a9ab9",
   "metadata": {},
   "outputs": [
    {
     "name": "stdout",
     "output_type": "stream",
     "text": [
      "(1, 3, 5, 7, 9, 11, 13, 15, 17, 19, 21, 23, 25, 27, 29, 31, 33, 35, 37, 39, 41, 43, 45, 47, 49)\n"
     ]
    }
   ],
   "source": [
    "r2 = tuple(range(1,51,2))\n",
    "print(r2)"
   ]
  },
  {
   "cell_type": "code",
   "execution_count": null,
   "id": "cd863bb9-014c-4cc8-98b2-96b1ff82954f",
   "metadata": {},
   "outputs": [],
   "source": [
    "# sort"
   ]
  },
  {
   "cell_type": "code",
   "execution_count": 22,
   "id": "ba390721-98e6-44de-9d12-b1c5e946dade",
   "metadata": {},
   "outputs": [
    {
     "name": "stdout",
     "output_type": "stream",
     "text": [
      "[1, 2, 3, 4]\n"
     ]
    }
   ],
   "source": [
    "r2 = (3, 1, 4, 2)\n",
    "sorted_tuple = sorted(r2)\n",
    "print(sorted_tuple)  \n"
   ]
  },
  {
   "cell_type": "code",
   "execution_count": null,
   "id": "4559b91c-e0db-4078-a785-928602280931",
   "metadata": {},
   "outputs": [],
   "source": []
  }
 ],
 "metadata": {
  "kernelspec": {
   "display_name": "Python 3 (ipykernel)",
   "language": "python",
   "name": "python3"
  },
  "language_info": {
   "codemirror_mode": {
    "name": "ipython",
    "version": 3
   },
   "file_extension": ".py",
   "mimetype": "text/x-python",
   "name": "python",
   "nbconvert_exporter": "python",
   "pygments_lexer": "ipython3",
   "version": "3.11.7"
  }
 },
 "nbformat": 4,
 "nbformat_minor": 5
}
