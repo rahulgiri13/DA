{
 "cells": [
  {
   "cell_type": "markdown",
   "id": "7877f856-08ea-4dbe-b2e3-87adf27f00c9",
   "metadata": {},
   "source": [
    "# list"
   ]
  },
  {
   "cell_type": "markdown",
   "id": "0609059d-d95a-4ce2-b12c-77457ff9333c",
   "metadata": {},
   "source": [
    "## empty list"
   ]
  },
  {
   "cell_type": "code",
   "execution_count": 2,
   "id": "6c86b94d-d4ab-4807-9bfd-4f91dbb87c7b",
   "metadata": {},
   "outputs": [
    {
     "data": {
      "text/plain": [
       "[]"
      ]
     },
     "execution_count": 2,
     "metadata": {},
     "output_type": "execute_result"
    }
   ],
   "source": [
    "[]"
   ]
  },
  {
   "cell_type": "markdown",
   "id": "72454202-4b67-40a5-9ab8-0535383bf3e0",
   "metadata": {},
   "source": [
    "# creating list"
   ]
  },
  {
   "cell_type": "code",
   "execution_count": 3,
   "id": "dd00c6a7-64ee-4b1b-a734-944037dd5527",
   "metadata": {},
   "outputs": [
    {
     "data": {
      "text/plain": [
       "[1, 2, 3, 4, 5, 6, 7, 8]"
      ]
     },
     "execution_count": 3,
     "metadata": {},
     "output_type": "execute_result"
    }
   ],
   "source": [
    "[1,2,3,4,5,6,7,8,]"
   ]
  },
  {
   "cell_type": "markdown",
   "id": "89610dcf-cd0d-4c63-b1d2-211c56cea14c",
   "metadata": {},
   "source": [
    "# append list"
   ]
  },
  {
   "cell_type": "code",
   "execution_count": 42,
   "id": "2db4b1ab-4627-4ee3-80f2-d63ccc9ff005",
   "metadata": {},
   "outputs": [],
   "source": [
    "val1 =[10,20,30,40,50]"
   ]
  },
  {
   "cell_type": "code",
   "execution_count": 6,
   "id": "099ce77f-e441-4f20-afa8-ae5109250aa1",
   "metadata": {},
   "outputs": [
    {
     "data": {
      "text/plain": [
       "[10, 20, 30, 40, 50]"
      ]
     },
     "execution_count": 6,
     "metadata": {},
     "output_type": "execute_result"
    }
   ],
   "source": [
    "val1"
   ]
  },
  {
   "cell_type": "code",
   "execution_count": 7,
   "id": "27f40132-36c9-4a79-81c6-cd9b961a4369",
   "metadata": {},
   "outputs": [],
   "source": [
    "val1.append(45)"
   ]
  },
  {
   "cell_type": "code",
   "execution_count": 8,
   "id": "e13b99c9-eb57-4aba-a04e-2411986fcdcb",
   "metadata": {},
   "outputs": [
    {
     "data": {
      "text/plain": [
       "[10, 20, 30, 40, 50, 45]"
      ]
     },
     "execution_count": 8,
     "metadata": {},
     "output_type": "execute_result"
    }
   ],
   "source": [
    "val1"
   ]
  },
  {
   "cell_type": "markdown",
   "id": "077e1dc4-7351-46b6-81c3-5501d0567106",
   "metadata": {},
   "source": [
    "# clear list"
   ]
  },
  {
   "cell_type": "code",
   "execution_count": 10,
   "id": "0b452bd5-4c69-4d80-bc4b-2c6360ee6788",
   "metadata": {},
   "outputs": [
    {
     "data": {
      "text/plain": [
       "[10, 20, 30, 40, 50, 45]"
      ]
     },
     "execution_count": 10,
     "metadata": {},
     "output_type": "execute_result"
    }
   ],
   "source": [
    "val1"
   ]
  },
  {
   "cell_type": "code",
   "execution_count": 12,
   "id": "0e0e63cd-41b3-4517-95a2-1186df727bb8",
   "metadata": {},
   "outputs": [],
   "source": [
    "val1.clear()"
   ]
  },
  {
   "cell_type": "code",
   "execution_count": 13,
   "id": "857271ef-c204-4ec4-94c0-420201295e99",
   "metadata": {},
   "outputs": [
    {
     "data": {
      "text/plain": [
       "[]"
      ]
     },
     "execution_count": 13,
     "metadata": {},
     "output_type": "execute_result"
    }
   ],
   "source": [
    "val1"
   ]
  },
  {
   "cell_type": "markdown",
   "id": "2e9297c3-bc02-423e-b31d-8bff7467d2f1",
   "metadata": {},
   "source": [
    "# count list"
   ]
  },
  {
   "cell_type": "code",
   "execution_count": 95,
   "id": "67139ee1-2896-4d9d-9243-e4b29295baa6",
   "metadata": {},
   "outputs": [],
   "source": [
    "veg1 =['tomato','potato','onion','ladyfinger','green chilli',]"
   ]
  },
  {
   "cell_type": "code",
   "execution_count": 96,
   "id": "28fd7408-dd19-496e-88a7-eb86d098e408",
   "metadata": {},
   "outputs": [
    {
     "data": {
      "text/plain": [
       "['tomato', 'potato', 'onion', 'ladyfinger', 'green chilli']"
      ]
     },
     "execution_count": 96,
     "metadata": {},
     "output_type": "execute_result"
    }
   ],
   "source": [
    "veg1"
   ]
  },
  {
   "cell_type": "code",
   "execution_count": 34,
   "id": "6181ab07-8263-4856-affc-a145f142ebae",
   "metadata": {},
   "outputs": [],
   "source": [
    "veg1 = veg1.count('onion')"
   ]
  },
  {
   "cell_type": "code",
   "execution_count": 35,
   "id": "6b409ca0-05b3-4de7-a8ae-14d76f3961d2",
   "metadata": {},
   "outputs": [
    {
     "data": {
      "text/plain": [
       "1"
      ]
     },
     "execution_count": 35,
     "metadata": {},
     "output_type": "execute_result"
    }
   ],
   "source": [
    "veg1"
   ]
  },
  {
   "cell_type": "markdown",
   "id": "2a653912-d8c2-496f-85f9-202bca80cc5b",
   "metadata": {},
   "source": [
    "# extend list"
   ]
  },
  {
   "cell_type": "code",
   "execution_count": 52,
   "id": "44f3b1f6-603e-4053-a2da-bfe952676d9c",
   "metadata": {},
   "outputs": [],
   "source": [
    "R1= [1,2,3,4,5]"
   ]
  },
  {
   "cell_type": "code",
   "execution_count": 53,
   "id": "7041a176-134a-4639-a0ee-164110400e2e",
   "metadata": {},
   "outputs": [],
   "source": [
    "R2= ['mango', 'banana', 'apple']"
   ]
  },
  {
   "cell_type": "code",
   "execution_count": 54,
   "id": "e119665d-976f-4ae2-8f7b-8de44252532b",
   "metadata": {},
   "outputs": [],
   "source": [
    "R1.extend(R2)"
   ]
  },
  {
   "cell_type": "code",
   "execution_count": 55,
   "id": "bb0292a7-c8fb-4a48-8971-d5d165a604c6",
   "metadata": {},
   "outputs": [
    {
     "data": {
      "text/plain": [
       "[1, 2, 3, 4, 5, 'mango', 'banana', 'apple']"
      ]
     },
     "execution_count": 55,
     "metadata": {},
     "output_type": "execute_result"
    }
   ],
   "source": [
    "R1"
   ]
  },
  {
   "cell_type": "markdown",
   "id": "43a4c4d3-c755-422a-9784-7d291fffc055",
   "metadata": {},
   "source": [
    "# insert list"
   ]
  },
  {
   "cell_type": "code",
   "execution_count": 56,
   "id": "124128e0-61a1-4e1b-8098-a9219292dd5d",
   "metadata": {},
   "outputs": [
    {
     "data": {
      "text/plain": [
       "['mango', 'banana', 'apple']"
      ]
     },
     "execution_count": 56,
     "metadata": {},
     "output_type": "execute_result"
    }
   ],
   "source": [
    "R2"
   ]
  },
  {
   "cell_type": "code",
   "execution_count": 58,
   "id": "e4640319-64ca-4385-b4d3-03b1820a922e",
   "metadata": {},
   "outputs": [],
   "source": [
    "R2.insert(1,'watermelon')"
   ]
  },
  {
   "cell_type": "code",
   "execution_count": 59,
   "id": "a7247a6b-5a28-4121-92ff-5babfb02b916",
   "metadata": {},
   "outputs": [
    {
     "data": {
      "text/plain": [
       "['mango', 'watermelon', 'banana', 'apple']"
      ]
     },
     "execution_count": 59,
     "metadata": {},
     "output_type": "execute_result"
    }
   ],
   "source": [
    "R2"
   ]
  },
  {
   "cell_type": "markdown",
   "id": "2a768ea2-840e-4bef-88aa-3fa354238f14",
   "metadata": {},
   "source": [
    "# pop list"
   ]
  },
  {
   "cell_type": "code",
   "execution_count": 60,
   "id": "81c000fc-e5d2-452b-af9e-2b098c282f77",
   "metadata": {},
   "outputs": [
    {
     "data": {
      "text/plain": [
       "['mango', 'watermelon', 'banana', 'apple']"
      ]
     },
     "execution_count": 60,
     "metadata": {},
     "output_type": "execute_result"
    }
   ],
   "source": [
    "R2"
   ]
  },
  {
   "cell_type": "code",
   "execution_count": 61,
   "id": "4c788e76-1cc0-4f17-b267-2cf8933ac538",
   "metadata": {},
   "outputs": [
    {
     "data": {
      "text/plain": [
       "'watermelon'"
      ]
     },
     "execution_count": 61,
     "metadata": {},
     "output_type": "execute_result"
    }
   ],
   "source": [
    "R2.pop(1)"
   ]
  },
  {
   "cell_type": "code",
   "execution_count": 62,
   "id": "ef0b7c07-398a-474f-8943-c6668dbd087a",
   "metadata": {},
   "outputs": [
    {
     "data": {
      "text/plain": [
       "'mango'"
      ]
     },
     "execution_count": 62,
     "metadata": {},
     "output_type": "execute_result"
    }
   ],
   "source": [
    "R2.pop(0)"
   ]
  },
  {
   "cell_type": "markdown",
   "id": "9267579c-e962-463c-87a3-1240761c0501",
   "metadata": {},
   "source": [
    "# remove list"
   ]
  },
  {
   "cell_type": "code",
   "execution_count": 88,
   "id": "89828937-f7c7-4102-b498-df33af8e196c",
   "metadata": {},
   "outputs": [
    {
     "data": {
      "text/plain": [
       "['tomato', 'potato', 'onion', 'ladyfinger', 'green chilli']"
      ]
     },
     "execution_count": 88,
     "metadata": {},
     "output_type": "execute_result"
    }
   ],
   "source": [
    "veg1"
   ]
  },
  {
   "cell_type": "code",
   "execution_count": 89,
   "id": "876d8ed0-1348-4103-bc3b-5c606017aa15",
   "metadata": {},
   "outputs": [],
   "source": [
    "veg1.remove('tomato')"
   ]
  },
  {
   "cell_type": "code",
   "execution_count": 90,
   "id": "6e12f8b8-4b6c-45df-aa95-d9ebc832d8f3",
   "metadata": {},
   "outputs": [
    {
     "data": {
      "text/plain": [
       "['potato', 'onion', 'ladyfinger', 'green chilli']"
      ]
     },
     "execution_count": 90,
     "metadata": {},
     "output_type": "execute_result"
    }
   ],
   "source": [
    "veg1"
   ]
  },
  {
   "cell_type": "markdown",
   "id": "1ae8e1dd-bc6f-4b03-b158-4a19dba659d1",
   "metadata": {},
   "source": [
    "# reverse list"
   ]
  },
  {
   "cell_type": "code",
   "execution_count": 91,
   "id": "a23a4482-166a-47c6-9ff6-ca65b4787bec",
   "metadata": {},
   "outputs": [
    {
     "data": {
      "text/plain": [
       "['potato', 'onion', 'ladyfinger', 'green chilli']"
      ]
     },
     "execution_count": 91,
     "metadata": {},
     "output_type": "execute_result"
    }
   ],
   "source": [
    "veg1"
   ]
  },
  {
   "cell_type": "code",
   "execution_count": 92,
   "id": "3686894d-78d5-4fde-a9b6-7c12fed3ab89",
   "metadata": {},
   "outputs": [],
   "source": [
    "veg1.reverse()"
   ]
  },
  {
   "cell_type": "code",
   "execution_count": 93,
   "id": "587705e0-6527-4e72-82cb-176cf89b9eef",
   "metadata": {},
   "outputs": [
    {
     "data": {
      "text/plain": [
       "['green chilli', 'ladyfinger', 'onion', 'potato']"
      ]
     },
     "execution_count": 93,
     "metadata": {},
     "output_type": "execute_result"
    }
   ],
   "source": [
    "veg1"
   ]
  },
  {
   "cell_type": "code",
   "execution_count": 94,
   "id": "fdf20c39-91fa-4db1-8bc0-33f8c5b3483a",
   "metadata": {},
   "outputs": [],
   "source": [
    "# sort list"
   ]
  },
  {
   "cell_type": "code",
   "execution_count": 97,
   "id": "aca19bf7-f628-40f0-9454-89f2028a970e",
   "metadata": {},
   "outputs": [
    {
     "data": {
      "text/plain": [
       "['tomato', 'potato', 'onion', 'ladyfinger', 'green chilli']"
      ]
     },
     "execution_count": 97,
     "metadata": {},
     "output_type": "execute_result"
    }
   ],
   "source": [
    "veg1"
   ]
  },
  {
   "cell_type": "code",
   "execution_count": 98,
   "id": "5ae87818-8c41-4625-82dc-86e120f81e7e",
   "metadata": {},
   "outputs": [],
   "source": [
    "veg1.sort()"
   ]
  },
  {
   "cell_type": "code",
   "execution_count": 99,
   "id": "af3556fa-b8e4-4df0-8a79-9ed56f2bf523",
   "metadata": {},
   "outputs": [
    {
     "data": {
      "text/plain": [
       "['green chilli', 'ladyfinger', 'onion', 'potato', 'tomato']"
      ]
     },
     "execution_count": 99,
     "metadata": {},
     "output_type": "execute_result"
    }
   ],
   "source": [
    "veg1"
   ]
  },
  {
   "cell_type": "code",
   "execution_count": null,
   "id": "170a9473-14fe-4441-9a20-1da069286630",
   "metadata": {},
   "outputs": [],
   "source": [
    "#desending\n"
   ]
  },
  {
   "cell_type": "code",
   "execution_count": 100,
   "id": "42e63ee3-2f42-45f0-9bed-c358bedaad3e",
   "metadata": {},
   "outputs": [
    {
     "data": {
      "text/plain": [
       "['green chilli', 'ladyfinger', 'onion', 'potato', 'tomato']"
      ]
     },
     "execution_count": 100,
     "metadata": {},
     "output_type": "execute_result"
    }
   ],
   "source": [
    "veg1"
   ]
  },
  {
   "cell_type": "code",
   "execution_count": 102,
   "id": "6dc76612-9503-46e9-bb26-f4b364800446",
   "metadata": {},
   "outputs": [],
   "source": [
    "veg1.sort(reverse=True)"
   ]
  },
  {
   "cell_type": "code",
   "execution_count": 103,
   "id": "512b17f8-bc59-4875-ac48-b0e0c2ca0b75",
   "metadata": {},
   "outputs": [
    {
     "data": {
      "text/plain": [
       "['tomato', 'potato', 'onion', 'ladyfinger', 'green chilli']"
      ]
     },
     "execution_count": 103,
     "metadata": {},
     "output_type": "execute_result"
    }
   ],
   "source": [
    "veg1"
   ]
  },
  {
   "cell_type": "code",
   "execution_count": null,
   "id": "1e533b8e-9685-4a2c-9258-ca80ae12c6bb",
   "metadata": {},
   "outputs": [],
   "source": []
  }
 ],
 "metadata": {
  "kernelspec": {
   "display_name": "Python 3 (ipykernel)",
   "language": "python",
   "name": "python3"
  },
  "language_info": {
   "codemirror_mode": {
    "name": "ipython",
    "version": 3
   },
   "file_extension": ".py",
   "mimetype": "text/x-python",
   "name": "python",
   "nbconvert_exporter": "python",
   "pygments_lexer": "ipython3",
   "version": "3.11.7"
  }
 },
 "nbformat": 4,
 "nbformat_minor": 5
}
