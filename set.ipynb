{
 "cells": [
  {
   "cell_type": "markdown",
   "id": "9a15536b-ddbc-429b-9a19-ffaa369ec646",
   "metadata": {},
   "source": [
    "# set"
   ]
  },
  {
   "cell_type": "markdown",
   "id": "ee3a458f-718b-4a30-9870-b3afe7b1b59f",
   "metadata": {},
   "source": [
    "### create set"
   ]
  },
  {
   "cell_type": "code",
   "execution_count": 1,
   "id": "5f641753-233e-4690-a155-b7678f796e68",
   "metadata": {},
   "outputs": [
    {
     "name": "stdout",
     "output_type": "stream",
     "text": [
      "{1, 3.14, 'apple'}\n"
     ]
    }
   ],
   "source": [
    "my_fruit = {1, \"apple\", 3.14}\n",
    "print(my_fruit)"
   ]
  },
  {
   "cell_type": "markdown",
   "id": "575637eb-c19b-49f6-8d02-feaeab8eeecd",
   "metadata": {},
   "source": [
    "#### in"
   ]
  },
  {
   "cell_type": "code",
   "execution_count": 3,
   "id": "ec488620-a7b7-4a0e-ab0b-336adf1f44ad",
   "metadata": {},
   "outputs": [
    {
     "name": "stdout",
     "output_type": "stream",
     "text": [
      "apple is present\n"
     ]
    }
   ],
   "source": [
    "if \"apple\" in my_fruit:\n",
    "    print(\"apple is present\")\n"
   ]
  },
  {
   "cell_type": "markdown",
   "id": "9d632709-930f-46e1-b908-07bc6910d095",
   "metadata": {},
   "source": [
    "#### add"
   ]
  },
  {
   "cell_type": "code",
   "execution_count": 4,
   "id": "d8fd76ab-47ba-4fc8-9bf5-8376c7288131",
   "metadata": {},
   "outputs": [
    {
     "name": "stdout",
     "output_type": "stream",
     "text": [
      "{1, 3.14, 4, 'apple'}\n"
     ]
    }
   ],
   "source": [
    "my_fruit.add(4)\n",
    "print(my_fruit) \n"
   ]
  },
  {
   "cell_type": "markdown",
   "id": "bd05dcd7-0315-4f79-b739-f8c99e8ef443",
   "metadata": {},
   "source": [
    "#### remove"
   ]
  },
  {
   "cell_type": "code",
   "execution_count": 9,
   "id": "4c0dd039-6a7b-450c-ba57-63ea91187831",
   "metadata": {},
   "outputs": [
    {
     "name": "stdout",
     "output_type": "stream",
     "text": [
      "{1, 3.14, 'apple'}\n"
     ]
    }
   ],
   "source": [
    "my_fruit.remove(4)  \n",
    "my_fruit.discard(\"banana\")  \n",
    "print(my_fruit)  \n"
   ]
  },
  {
   "cell_type": "markdown",
   "id": "821c9742-51ed-413f-8662-c114557a8122",
   "metadata": {},
   "source": [
    "#### union"
   ]
  },
  {
   "cell_type": "code",
   "execution_count": 10,
   "id": "25284930-be36-464c-9883-148531521a0a",
   "metadata": {},
   "outputs": [
    {
     "name": "stdout",
     "output_type": "stream",
     "text": [
      "{1, 2, 'mango', 'apple'}\n"
     ]
    }
   ],
   "source": [
    "fruits = {\"apple\", \"mango\"}\n",
    "numbers = {1, 2}\n",
    "combined_set = fruits | numbers\n",
    "print(combined_set)  \n"
   ]
  },
  {
   "cell_type": "markdown",
   "id": "dd7704d7-07bc-47a7-a1f1-92354afe3b36",
   "metadata": {},
   "source": [
    "#### intersection"
   ]
  },
  {
   "cell_type": "code",
   "execution_count": 14,
   "id": "ffe2303c-9a30-4a2c-8e44-90a51998fbba",
   "metadata": {},
   "outputs": [],
   "source": [
    "A = {1, 2, 3, 4, 5}\n",
    "B = {4, 5, 6, 7, 8}"
   ]
  },
  {
   "cell_type": "code",
   "execution_count": 15,
   "id": "4804296e-8119-47f4-bcf2-325caee456ee",
   "metadata": {},
   "outputs": [
    {
     "data": {
      "text/plain": [
       "{4, 5}"
      ]
     },
     "execution_count": 15,
     "metadata": {},
     "output_type": "execute_result"
    }
   ],
   "source": [
    "A.intersection(B)"
   ]
  },
  {
   "cell_type": "code",
   "execution_count": 16,
   "id": "e4069825-7979-4167-aa45-0d75f12fa5ef",
   "metadata": {},
   "outputs": [
    {
     "data": {
      "text/plain": [
       "{4, 5}"
      ]
     },
     "execution_count": 16,
     "metadata": {},
     "output_type": "execute_result"
    }
   ],
   "source": [
    "A & B"
   ]
  },
  {
   "cell_type": "markdown",
   "id": "7b95c8c7-2c0b-4713-988e-5fd1edc405de",
   "metadata": {},
   "source": [
    "#### difference"
   ]
  },
  {
   "cell_type": "code",
   "execution_count": 18,
   "id": "c80473dc-fb7a-4765-bc14-0c7f997302db",
   "metadata": {},
   "outputs": [],
   "source": [
    "A = {1, 2, 3, 4, 5}\n",
    "B = {4, 5, 6, 7, 8}"
   ]
  },
  {
   "cell_type": "code",
   "execution_count": 19,
   "id": "62e0786c-f5d7-4521-81ab-d530b48d7443",
   "metadata": {},
   "outputs": [
    {
     "data": {
      "text/plain": [
       "{1, 2, 3}"
      ]
     },
     "execution_count": 19,
     "metadata": {},
     "output_type": "execute_result"
    }
   ],
   "source": [
    "A. difference(B)"
   ]
  },
  {
   "cell_type": "code",
   "execution_count": 20,
   "id": "c511feba-1bcb-4e90-ba08-1f306310595c",
   "metadata": {},
   "outputs": [
    {
     "data": {
      "text/plain": [
       "{1, 2, 3}"
      ]
     },
     "execution_count": 20,
     "metadata": {},
     "output_type": "execute_result"
    }
   ],
   "source": [
    "A-B"
   ]
  },
  {
   "cell_type": "code",
   "execution_count": null,
   "id": "0058bb61-1b69-429f-9b96-a71c4bbe275a",
   "metadata": {},
   "outputs": [],
   "source": []
  }
 ],
 "metadata": {
  "kernelspec": {
   "display_name": "Python 3 (ipykernel)",
   "language": "python",
   "name": "python3"
  },
  "language_info": {
   "codemirror_mode": {
    "name": "ipython",
    "version": 3
   },
   "file_extension": ".py",
   "mimetype": "text/x-python",
   "name": "python",
   "nbconvert_exporter": "python",
   "pygments_lexer": "ipython3",
   "version": "3.11.7"
  }
 },
 "nbformat": 4,
 "nbformat_minor": 5
}
